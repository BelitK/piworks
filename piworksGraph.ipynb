{
 "cells": [
  {
   "cell_type": "markdown",
   "id": "f1a36476",
   "metadata": {},
   "source": [
    "imported required libs"
   ]
  },
  {
   "cell_type": "code",
   "execution_count": 2,
   "id": "674a7c45",
   "metadata": {},
   "outputs": [],
   "source": [
    "import pandas as pd\n",
    "import matplotlib.pyplot as plt\n",
    "import numpy as np"
   ]
  },
  {
   "cell_type": "markdown",
   "id": "7c1c343e",
   "metadata": {},
   "source": [
    "Read data"
   ]
  },
  {
   "cell_type": "code",
   "execution_count": 4,
   "id": "4456ae62",
   "metadata": {},
   "outputs": [],
   "source": [
    "data = pd.read_excel(\"DailyActivities (1).xlsx\")\n",
    "data.head(5)"
   ]
  },
  {
   "cell_type": "markdown",
   "id": "97a206a2",
   "metadata": {},
   "source": [
    "function for plotting"
   ]
  },
  {
   "cell_type": "code",
   "execution_count": 16,
   "id": "891803b4",
   "metadata": {},
   "outputs": [],
   "source": [
    "category_names = data[\"Area of Interest\"]\n",
    "results = {\n",
    "    'Charles': data[\"Charles\"],\n",
    "    'Henry': data[\"Henry\"],\n",
    "    'Susan': data[\"Susan\"]\n",
    "    \n",
    "}\n",
    "\n",
    "\n",
    "def survey(results, category_names):\n",
    "    labels = list(results.keys())\n",
    "    data = np.array(list(results.values()))\n",
    "    data_cum = data.cumsum(axis=1)\n",
    "    category_colors = plt.get_cmap('RdYlGn')(\n",
    "        np.linspace(0.15, 0.85, data.shape[1]))\n",
    "\n",
    "    fig, ax = plt.subplots(figsize=(12, 5))\n",
    "    ax.invert_yaxis()\n",
    "    ax.xaxis.set_visible(False)\n",
    "    ax.set_xlim(0, np.sum(data, axis=1).max())\n",
    "\n",
    "    for i, (colname, color) in enumerate(zip(category_names, category_colors)):\n",
    "        widths = data[:, i]\n",
    "        starts = data_cum[:, i] - widths\n",
    "        rects = ax.barh(labels, widths, left=starts, height=0.5,\n",
    "                        label=colname, color=color)\n",
    "\n",
    "        r, g, b, _ = color\n",
    "        text_color = 'black'\n",
    "        ax.bar_label(rects, label_type='center', color=text_color)\n",
    "    ax.legend(ncol=len(category_names), bbox_to_anchor=(0, 1),\n",
    "              loc='lower left', fontsize='small')\n",
    "    \n",
    "    plt.ylabel(\"Names\")\n",
    "    plt.xlabel(\"24 Hours\")\n",
    "    return fig, ax"
   ]
  },
  {
   "cell_type": "markdown",
   "id": "902966b5",
   "metadata": {},
   "source": [
    "Using function with data"
   ]
  },
  {
   "cell_type": "code",
   "execution_count": 17,
   "id": "71deff5a",
   "metadata": {},
   "outputs": [
    {
     "data": {
      "image/png": "[encoded data removed]",
      "text/plain": [
       "<Figure size 864x360 with 1 Axes>"
      ]
     },
     "metadata": {
      "needs_background": "light"
     },
     "output_type": "display_data"
    }
   ],
   "source": [
    "survey(results, category_names)\n",
    "\n",
    "plt.savefig(\"test.png\",facecolor='white', transparent=False)\n",
    "plt.show()"
   ]
  }
 ],
 "metadata": {
  "kernelspec": {
   "display_name": "Python 3 (ipykernel)",
   "language": "python",
   "name": "python3"
  },
  "language_info": {
   "codemirror_mode": {
    "name": "ipython",
    "version": 3
   },
   "file_extension": ".py",
   "mimetype": "text/x-python",
   "name": "python",
   "nbconvert_exporter": "python",
   "pygments_lexer": "ipython3",
   "version": "3.8.10"
  }
 },
 "nbformat": 4,
 "nbformat_minor": 5
}
