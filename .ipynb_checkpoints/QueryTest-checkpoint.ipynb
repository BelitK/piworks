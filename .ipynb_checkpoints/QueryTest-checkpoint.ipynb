{
 "cells": [
  {
   "cell_type": "code",
   "execution_count": 2,
   "id": "8660943f",
   "metadata": {},
   "outputs": [],
   "source": [
    "import psycopg2"
   ]
  },
  {
   "cell_type": "markdown",
   "id": "69e5dcaa",
   "metadata": {},
   "source": [
    "Insert connection string to connect()"
   ]
  },
  {
   "cell_type": "code",
   "execution_count": null,
   "id": "7c76c675",
   "metadata": {},
   "outputs": [],
   "source": [
    "conn = psycopg2.connect(\"example connetion parameters\")\n",
    "cur = conn.cursor()"
   ]
  },
  {
   "cell_type": "markdown",
   "id": "c2898858",
   "metadata": {},
   "source": [
    "using connection cursor for query execution and fetching data"
   ]
  },
  {
   "cell_type": "code",
   "execution_count": null,
   "id": "17598795",
   "metadata": {},
   "outputs": [],
   "source": [
    "Device_Type= str(input())\n",
    "cur.execute(f'select Stats_Access_link from DB where Device_Type =\"{Device_Type}\";')\n",
    "data = cur.fetchone()"
   ]
  },
  {
   "cell_type": "markdown",
   "id": "b16d82ee",
   "metadata": {},
   "source": [
    "splitting and slicing for url extraction"
   ]
  },
  {
   "cell_type": "code",
   "execution_count": 6,
   "id": "d15c68b2",
   "metadata": {},
   "outputs": [
    {
     "data": {
      "text/plain": [
       "'xcd32112.smart_meter.com'"
      ]
     },
     "execution_count": 6,
     "metadata": {},
     "output_type": "execute_result"
    }
   ],
   "source": [
    "#test data for string manipulation\n",
    "data = \"<url>https://xcd32112.smart_meter.com</url>\"\n",
    "url = data.split(\"//\")\n",
    "url[1][:-6]"
   ]
  }
 ],
 "metadata": {
  "kernelspec": {
   "display_name": "Python 3 (ipykernel)",
   "language": "python",
   "name": "python3"
  },
  "language_info": {
   "codemirror_mode": {
    "name": "ipython",
    "version": 3
   },
   "file_extension": ".py",
   "mimetype": "text/x-python",
   "name": "python",
   "nbconvert_exporter": "python",
   "pygments_lexer": "ipython3",
   "version": "3.8.10"
  }
 },
 "nbformat": 4,
 "nbformat_minor": 5
}
