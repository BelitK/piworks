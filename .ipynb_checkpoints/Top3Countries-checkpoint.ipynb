{
 "cells": [
  {
   "cell_type": "code",
   "execution_count": 31,
   "id": "6d1c17ec",
   "metadata": {},
   "outputs": [],
   "source": [
    "import numpy as np\n",
    "import pandas as pd\n",
    "import statistics as st"
   ]
  },
  {
   "cell_type": "code",
   "execution_count": 63,
   "id": "9220279f",
   "metadata": {},
   "outputs": [],
   "source": [
    "data = pd.read_csv(\"country_vaccination_stats.csv\")\n",
    "ulkeler = [*data[\"country\"].unique()]"
   ]
  },
  {
   "cell_type": "code",
   "execution_count": 64,
   "id": "3a18a144",
   "metadata": {},
   "outputs": [],
   "source": [
    "medians = list()\n",
    "for ulke in ulkeler:\n",
    "    ulke_value = data.loc[data[\"country\"]==ulke]\n",
    "    medians.append((st.median(ulke_value[\"daily_vaccinations\"]),ulke))"
   ]
  },
  {
   "cell_type": "code",
   "execution_count": 66,
   "id": "cf256551",
   "metadata": {},
   "outputs": [
    {
     "data": {
      "text/plain": [
       "[(378253.0, 'United States'), (276786.0, 'China'), (173922.0, 'India')]"
      ]
     },
     "execution_count": 66,
     "metadata": {},
     "output_type": "execute_result"
    }
   ],
   "source": [
    "medians.sort(reverse=True)\n",
    "medians[2:5]"
   ]
  },
  {
   "cell_type": "code",
   "execution_count": null,
   "id": "1775dc24",
   "metadata": {},
   "outputs": [],
   "source": []
  }
 ],
 "metadata": {
  "kernelspec": {
   "display_name": "Python 3 (ipykernel)",
   "language": "python",
   "name": "python3"
  },
  "language_info": {
   "codemirror_mode": {
    "name": "ipython",
    "version": 3
   },
   "file_extension": ".py",
   "mimetype": "text/x-python",
   "name": "python",
   "nbconvert_exporter": "python",
   "pygments_lexer": "ipython3",
   "version": "3.8.10"
  }
 },
 "nbformat": 4,
 "nbformat_minor": 5
}
