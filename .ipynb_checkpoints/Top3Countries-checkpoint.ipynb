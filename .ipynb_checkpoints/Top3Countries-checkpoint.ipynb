{
 "cells": [
  {
   "cell_type": "markdown",
   "id": "e5d31337",
   "metadata": {},
   "source": [
    "imported required libs"
   ]
  },
  {
   "cell_type": "code",
   "execution_count": 1,
   "id": "92919d5f",
   "metadata": {},
   "outputs": [],
   "source": [
    "import numpy as np\n",
    "import pandas as pd\n",
    "import statistics as st"
   ]
  },
  {
   "cell_type": "markdown",
   "id": "f66ec4b9",
   "metadata": {},
   "source": [
    "read data and get a list of countries"
   ]
  },
  {
   "cell_type": "code",
   "execution_count": 2,
   "id": "0f872db5",
   "metadata": {},
   "outputs": [],
   "source": [
    "data = pd.read_csv(\"country_vaccination_stats.csv\")\n",
    "ulkeler = [*data[\"country\"].unique()]"
   ]
  },
  {
   "cell_type": "markdown",
   "id": "e81809f0",
   "metadata": {},
   "source": [
    "get medians"
   ]
  },
  {
   "cell_type": "code",
   "execution_count": 3,
   "id": "b9d966ec",
   "metadata": {},
   "outputs": [],
   "source": [
    "medians = list()\n",
    "for ulke in ulkeler:\n",
    "    ulke_value = data.loc[data[\"country\"]==ulke]\n",
    "    medians.append((st.median(ulke_value[\"daily_vaccinations\"]),ulke))"
   ]
  },
  {
   "cell_type": "markdown",
   "id": "4b5d6baa",
   "metadata": {},
   "source": [
    "Exlude top 2 values for nan sorting and get top 3 countries"
   ]
  },
  {
   "cell_type": "code",
   "execution_count": 4,
   "id": "d9468c3a",
   "metadata": {},
   "outputs": [
    {
     "data": {
      "text/plain": [
       "[(378253.0, 'United States'), (276786.0, 'China'), (173922.0, 'India')]"
      ]
     },
     "execution_count": 4,
     "metadata": {},
     "output_type": "execute_result"
    }
   ],
   "source": [
    "medians.sort(reverse=True)\n",
    "medians[2:5]"
   ]
  },
  {
   "cell_type": "code",
   "execution_count": 5,
   "id": "1643741d",
   "metadata": {},
   "outputs": [
    {
     "data": {
      "text/plain": [
       "[(nan, 'Ecuador'), (nan, 'Kuwait')]"
      ]
     },
     "execution_count": 5,
     "metadata": {},
     "output_type": "execute_result"
    }
   ],
   "source": [
    "medians[:2]"
   ]
  }
 ],
 "metadata": {
  "kernelspec": {
   "display_name": "Python 3 (ipykernel)",
   "language": "python",
   "name": "python3"
  },
  "language_info": {
   "codemirror_mode": {
    "name": "ipython",
    "version": 3
   },
   "file_extension": ".py",
   "mimetype": "text/x-python",
   "name": "python",
   "nbconvert_exporter": "python",
   "pygments_lexer": "ipython3",
   "version": "3.8.10"
  }
 },
 "nbformat": 4,
 "nbformat_minor": 5
}
